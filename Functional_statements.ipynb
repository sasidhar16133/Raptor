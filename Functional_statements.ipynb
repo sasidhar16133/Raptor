{
  "nbformat": 4,
  "nbformat_minor": 0,
  "metadata": {
    "colab": {
      "name": "Functional statements.ipynb",
      "version": "0.3.2",
      "provenance": [],
      "collapsed_sections": [],
      "include_colab_link": true
    },
    "kernelspec": {
      "name": "python3",
      "display_name": "Python 3"
    }
  },
  "cells": [
    {
      "cell_type": "markdown",
      "metadata": {
        "id": "view-in-github",
        "colab_type": "text"
      },
      "source": [
        "<a href=\"https://colab.research.google.com/github/sasidhar16133/Raptor/blob/master/Functional_statements.ipynb\" target=\"_parent\"><img src=\"https://colab.research.google.com/assets/colab-badge.svg\" alt=\"Open In Colab\"/></a>"
      ]
    },
    {
      "cell_type": "code",
      "metadata": {
        "id": "Bl0u74JDbCfo",
        "colab_type": "code",
        "colab": {}
      },
      "source": [
        ""
      ],
      "execution_count": 0,
      "outputs": []
    },
    {
      "cell_type": "markdown",
      "metadata": {
        "id": "cJ0_Qbc4bOPO",
        "colab_type": "text"
      },
      "source": [
        "#Functional programming in python\n",
        "\n",
        "\n",
        "\n",
        "#Example 1\n",
        "Functional programming to print the n natural numbers"
      ]
    },
    {
      "cell_type": "markdown",
      "metadata": {
        "id": "4hEKUGb9jjad",
        "colab_type": "text"
      },
      "source": [
        ""
      ]
    },
    {
      "cell_type": "code",
      "metadata": {
        "id": "zWUlk820cvo_",
        "colab_type": "code",
        "colab": {
          "base_uri": "https://localhost:8080/",
          "height": 54
        },
        "outputId": "9f5a037a-35b2-4be3-ae49-5d77bbb121c1"
      },
      "source": [
        "def printNNaturalNumbers(n):\n",
        "  cnt=1;\n",
        "  while(cnt<=n):\n",
        "    print(cnt,end=\" \");\n",
        "    cnt=cnt+1;\n",
        "  print()\n",
        "  return\n",
        "\n",
        "printNNaturalNumbers(9);\n",
        "printNNaturalNumbers(15);"
      ],
      "execution_count": 2,
      "outputs": [
        {
          "output_type": "stream",
          "text": [
            "1 2 3 4 5 6 7 8 9 \n",
            "1 2 3 4 5 6 7 8 9 10 11 12 13 14 15 \n"
          ],
          "name": "stdout"
        }
      ]
    },
    {
      "cell_type": "markdown",
      "metadata": {
        "id": "abYQjFHNjk6c",
        "colab_type": "text"
      },
      "source": [
        ""
      ]
    },
    {
      "cell_type": "markdown",
      "metadata": {
        "id": "UvMO6vrifQss",
        "colab_type": "text"
      },
      "source": [
        "#Example 2\n",
        "##find the factorial of even number\n"
      ]
    },
    {
      "cell_type": "code",
      "metadata": {
        "id": "JgphKi_HfX4x",
        "colab_type": "code",
        "colab": {
          "base_uri": "https://localhost:8080/",
          "height": 35
        },
        "outputId": "09953eb3-d02c-4910-9565-4fa0fba7cd04"
      },
      "source": [
        "def findFact(n):\n",
        "  fact=1;\n",
        "  while(n!=0):\n",
        "    fact=fact*n;\n",
        "    n=n-1;\n",
        "  return fact;\n",
        "  \n",
        "print(findFact(5));"
      ],
      "execution_count": 6,
      "outputs": [
        {
          "output_type": "stream",
          "text": [
            "120\n"
          ],
          "name": "stdout"
        }
      ]
    },
    {
      "cell_type": "code",
      "metadata": {
        "id": "8YhTp4rafX30",
        "colab_type": "code",
        "colab": {}
      },
      "source": [
        ""
      ],
      "execution_count": 0,
      "outputs": []
    },
    {
      "cell_type": "markdown",
      "metadata": {
        "id": "78q1lFI6jmh2",
        "colab_type": "text"
      },
      "source": [
        "#Example 3\n",
        "##program to find the count of pallindrome between two limits"
      ]
    },
    {
      "cell_type": "code",
      "metadata": {
        "id": "DtmVg3SFj-sT",
        "colab_type": "code",
        "colab": {
          "base_uri": "https://localhost:8080/",
          "height": 35
        },
        "outputId": "c0365236-8a8e-43c8-90de-ffc590a83f96"
      },
      "source": [
        "def countOfPalindromes(n1,n2):\n",
        "    c=0;\n",
        "    if(n1<n2):\n",
        "        up=n2;\n",
        "        low=n1;\n",
        "    while(low!=up):\n",
        "        i=low;\n",
        "        r=0;\n",
        "        while(i!=0):\n",
        "            s=i%10;\n",
        "            r=(r*10)+s;\n",
        "            i=i//10;\n",
        "        if(r==low):\n",
        "            c=c+1;\n",
        "        low=low+1;\n",
        "    return c;\n",
        "print(countOfPalindromes(1,100));\n",
        "    "
      ],
      "execution_count": 16,
      "outputs": [
        {
          "output_type": "stream",
          "text": [
            "1\n"
          ],
          "name": "stdout"
        }
      ]
    }
  ]
}