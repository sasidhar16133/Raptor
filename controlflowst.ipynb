{
  "nbformat": 4,
  "nbformat_minor": 0,
  "metadata": {
    "colab": {
      "name": "controlflowst.ipynb",
      "version": "0.3.2",
      "provenance": [],
      "collapsed_sections": [],
      "include_colab_link": true
    },
    "kernelspec": {
      "name": "python3",
      "display_name": "Python 3"
    }
  },
  "cells": [
    {
      "cell_type": "markdown",
      "metadata": {
        "id": "view-in-github",
        "colab_type": "text"
      },
      "source": [
        "<a href=\"https://colab.research.google.com/github/sasidhar16133/Raptor/blob/master/controlflowst.ipynb\" target=\"_parent\"><img src=\"https://colab.research.google.com/assets/colab-badge.svg\" alt=\"Open In Colab\"/></a>"
      ]
    },
    {
      "cell_type": "markdown",
      "metadata": {
        "id": "EsE1A9MfYRTL",
        "colab_type": "text"
      },
      "source": [
        "#Control flow statements\n"
      ]
    },
    {
      "cell_type": "markdown",
      "metadata": {
        "id": "ohtY1QCUcLPG",
        "colab_type": "text"
      },
      "source": [
        "#### x and y is the input and we have find the largest number between the two numbers\n"
      ]
    },
    {
      "cell_type": "code",
      "metadata": {
        "id": "RjBbJMO7X4G-",
        "colab_type": "code",
        "outputId": "62e58d57-12c2-46f2-b38d-88792825cc94",
        "colab": {
          "base_uri": "https://localhost:8080/",
          "height": 35
        }
      },
      "source": [
        "x=10;\n",
        "y=20;\n",
        "if(x>y):\n",
        "  print(\"x is greater\");\n",
        "else:\n",
        "  print(\"y is greater\");"
      ],
      "execution_count": 0,
      "outputs": [
        {
          "output_type": "stream",
          "text": [
            "y is greater\n"
          ],
          "name": "stdout"
        }
      ]
    },
    {
      "cell_type": "markdown",
      "metadata": {
        "id": "OTLtHg10eeiD",
        "colab_type": "text"
      },
      "source": [
        "#### Need two number as input if the inputs are then the output should be square of the first number if not teh output must  be multiplication if the two numbers "
      ]
    },
    {
      "cell_type": "code",
      "metadata": {
        "id": "NzrEbK6Ie2Db",
        "colab_type": "code",
        "outputId": "3df19148-2f4f-4b98-ce09-bbd12e7bb513",
        "colab": {
          "base_uri": "https://localhost:8080/",
          "height": 35
        }
      },
      "source": [
        "x=10;\n",
        "y=10;\n",
        "if(x==y):\n",
        "  print(x*x);\n",
        "else: \n",
        "  print(x*y);"
      ],
      "execution_count": 0,
      "outputs": [
        {
          "output_type": "stream",
          "text": [
            "100\n"
          ],
          "name": "stdout"
        }
      ]
    },
    {
      "cell_type": "markdown",
      "metadata": {
        "id": "BqKCwr-uhIo1",
        "colab_type": "text"
      },
      "source": [
        "####Only one number as a input and we looking for whether given number is zero,positive or negative number\n",
        "\n"
      ]
    },
    {
      "cell_type": "code",
      "metadata": {
        "id": "elFDtZy-hLSn",
        "colab_type": "code",
        "outputId": "7bee0e97-4ea1-44dc-f276-4e89f232af06",
        "colab": {
          "base_uri": "https://localhost:8080/",
          "height": 35
        }
      },
      "source": [
        "x=10;\n",
        "if(x>0):\n",
        "  print(\"+ve\");\n",
        "elif(x<0):\n",
        "  print(\"-ve\");\n",
        "elif(x==0):\n",
        "  print(\"zero\")"
      ],
      "execution_count": 0,
      "outputs": [
        {
          "output_type": "stream",
          "text": [
            "+ve\n"
          ],
          "name": "stdout"
        }
      ]
    },
    {
      "cell_type": "markdown",
      "metadata": {
        "id": "Gks7ZaeQkZEN",
        "colab_type": "text"
      },
      "source": [
        "#### Loop Statement--While\n",
        "Syntax:- \n",
        "                   while(condition):\n",
        "                   Loop statement\n",
        "                   increment/decrement\n",
        "                   \n",
        "                   the loop will get excutes as long as the condition is returns true and it"
      ]
    },
    {
      "cell_type": "markdown",
      "metadata": {
        "id": "wfX1MSGDkZC5",
        "colab_type": "text"
      },
      "source": [
        ""
      ]
    },
    {
      "cell_type": "code",
      "metadata": {
        "id": "mJ3QQa24lJtc",
        "colab_type": "code",
        "outputId": "48b09097-7f82-4d6c-a9bb-5b50d6c51857",
        "colab": {
          "base_uri": "https://localhost:8080/",
          "height": 199
        }
      },
      "source": [
        "n=1;\n",
        "while(n<=10):\n",
        "  print(n);\n",
        "  n=n+1;"
      ],
      "execution_count": 0,
      "outputs": [
        {
          "output_type": "stream",
          "text": [
            "1\n",
            "2\n",
            "3\n",
            "4\n",
            "5\n",
            "6\n",
            "7\n",
            "8\n",
            "9\n",
            "10\n"
          ],
          "name": "stdout"
        }
      ]
    },
    {
      "cell_type": "markdown",
      "metadata": {
        "id": "YR_WZJ7Pl96u",
        "colab_type": "text"
      },
      "source": [
        "#Example2\n",
        "####print the numbers from 10 to 1"
      ]
    },
    {
      "cell_type": "code",
      "metadata": {
        "id": "RolOdqsJmIuX",
        "colab_type": "code",
        "outputId": "05f5d8f5-fd2c-4219-8eb1-31f7291e8271",
        "colab": {
          "base_uri": "https://localhost:8080/",
          "height": 199
        }
      },
      "source": [
        "n=10;\n",
        "while(n>0):\n",
        "  print(n);\n",
        "  n=n-1;"
      ],
      "execution_count": 0,
      "outputs": [
        {
          "output_type": "stream",
          "text": [
            "10\n",
            "9\n",
            "8\n",
            "7\n",
            "6\n",
            "5\n",
            "4\n",
            "3\n",
            "2\n",
            "1\n"
          ],
          "name": "stdout"
        }
      ]
    },
    {
      "cell_type": "markdown",
      "metadata": {
        "id": "Ktlx8j4tmQQX",
        "colab_type": "text"
      },
      "source": [
        "#Example 3\n",
        "####print the numbers from -22 to -45"
      ]
    },
    {
      "cell_type": "code",
      "metadata": {
        "id": "3zZ8Rae2mgJu",
        "colab_type": "code",
        "outputId": "ee946a16-8e65-4cfa-cdbb-f768e1eab6d3",
        "colab": {
          "base_uri": "https://localhost:8080/",
          "height": 454
        }
      },
      "source": [
        "n=-22;\n",
        "while(n>-46):\n",
        " print(n);\n",
        " n=n-1;"
      ],
      "execution_count": 0,
      "outputs": [
        {
          "output_type": "stream",
          "text": [
            "-22\n",
            "-23\n",
            "-24\n",
            "-25\n",
            "-26\n",
            "-27\n",
            "-28\n",
            "-29\n",
            "-30\n",
            "-31\n",
            "-32\n",
            "-33\n",
            "-34\n",
            "-35\n",
            "-36\n",
            "-37\n",
            "-38\n",
            "-39\n",
            "-40\n",
            "-41\n",
            "-42\n",
            "-43\n",
            "-44\n",
            "-45\n"
          ],
          "name": "stdout"
        }
      ]
    },
    {
      "cell_type": "markdown",
      "metadata": {
        "id": "ECNBd8OToItF",
        "colab_type": "text"
      },
      "source": [
        "#Example 4\n",
        "####print the sum of even numbers between 1 to 100"
      ]
    },
    {
      "cell_type": "code",
      "metadata": {
        "id": "bCGC31rWoSpk",
        "colab_type": "code",
        "outputId": "c78cd929-dc29-4d3c-af94-70008ff2fbaf",
        "colab": {
          "base_uri": "https://localhost:8080/",
          "height": 72
        }
      },
      "source": [
        "x=int(input(\"enter the lower limit\"));\n",
        "y=int(input(\"enter the upper limit\"));\n",
        "sum=0;\n",
        "while(x!=y):\n",
        "  if(x%2==0):\n",
        "    sum=sum+x;\n",
        "  x=x+1;\n",
        "    \n",
        "print(sum);"
      ],
      "execution_count": 0,
      "outputs": [
        {
          "output_type": "stream",
          "text": [
            "enter the lower limit1\n",
            "enter the upper limit5\n",
            "6\n"
          ],
          "name": "stdout"
        }
      ]
    },
    {
      "cell_type": "markdown",
      "metadata": {
        "id": "1limQplrrqxg",
        "colab_type": "text"
      },
      "source": [
        ""
      ]
    },
    {
      "cell_type": "markdown",
      "metadata": {
        "id": "qwVW6wc2rqzg",
        "colab_type": "text"
      },
      "source": [
        "#Example 5\n",
        "#input:\n",
        "             Number\n",
        "      \n",
        "#output:\n",
        "              Extract the digits of the number from right side direction"
      ]
    },
    {
      "cell_type": "code",
      "metadata": {
        "id": "jEfdpXLcsCyS",
        "colab_type": "code",
        "outputId": "f3765dc3-89f3-4b5e-ebd1-8b62fbcbe3af",
        "colab": {
          "base_uri": "https://localhost:8080/",
          "height": 90
        }
      },
      "source": [
        "import math\n",
        "\n",
        "x=int(input(\"Enter a number\"));\n",
        "while(x>0):\n",
        "  r=x%10;\n",
        "  x=math.floor(x/10);\n",
        "  print(r);"
      ],
      "execution_count": 0,
      "outputs": [
        {
          "output_type": "stream",
          "text": [
            "Enter a number123\n",
            "3\n",
            "2\n",
            "1\n"
          ],
          "name": "stdout"
        }
      ]
    },
    {
      "cell_type": "markdown",
      "metadata": {
        "id": "aBhv6Why1xS3",
        "colab_type": "text"
      },
      "source": [
        "#Example 6\n",
        "####input:\n",
        "                    a number\n",
        "          \n",
        "         output:\n",
        "                      you need add the sum of even numbers in a given numbers\n",
        "                      "
      ]
    },
    {
      "cell_type": "code",
      "metadata": {
        "id": "A7tyDIDm2Oa6",
        "colab_type": "code",
        "outputId": "b7f8ff40-c84f-4938-c018-c259f1891bce",
        "colab": {
          "base_uri": "https://localhost:8080/",
          "height": 54
        }
      },
      "source": [
        "n=int(input(\"Enter a input\"));\n",
        "sum=0;\n",
        "while(n>0):\n",
        "  r=n%10;\n",
        "  n=n//10;\n",
        "  if(r%2==0):\n",
        "   sum=sum+r;\n",
        "\n",
        "print(sum);\n",
        "  "
      ],
      "execution_count": 0,
      "outputs": [
        {
          "output_type": "stream",
          "text": [
            "Enter a input145\n",
            "4\n"
          ],
          "name": "stdout"
        }
      ]
    },
    {
      "cell_type": "markdown",
      "metadata": {
        "id": "UrQkJohJ5zeD",
        "colab_type": "text"
      },
      "source": [
        "#Example 7\n",
        "\n",
        "##input:\n",
        "               A number\n",
        "##output:\n",
        "               Respective name to digit\n",
        "               "
      ]
    },
    {
      "cell_type": "code",
      "metadata": {
        "id": "ASfMwXaP6IgU",
        "colab_type": "code",
        "outputId": "1a871643-e242-40f1-a9cb-7df9dca3d119",
        "colab": {
          "base_uri": "https://localhost:8080/",
          "height": 90
        }
      },
      "source": [
        "n=int(input(\"Enter a input\"));\n",
        "while(n>0):\n",
        "  r=n%10;\n",
        "  n=n//10;\n",
        "  if(r==1):\n",
        "    print(\"one\");\n",
        "  elif(r==2):\n",
        "    print(\"two\");\n",
        "  elif(r==3):\n",
        "    print(\"three\");\n",
        "  elif(r==4):\n",
        "    print(\"four\");\n",
        "  elif(r==5):\n",
        "    print(\"five\");\n",
        "  elif(r==6):\n",
        "    print(\"six\");\n",
        "  elif(r==7):\n",
        "    print(\"seven\");\n",
        "  elif(r==8):\n",
        "    print(\"eight\");\n",
        "  elif(r==9):\n",
        "    print(\"nine\");\n",
        "  elif(r==0):\n",
        "    print(\"zero\");\n"
      ],
      "execution_count": 0,
      "outputs": [
        {
          "output_type": "stream",
          "text": [
            "Enter a input145\n",
            "five\n",
            "four\n",
            "one\n"
          ],
          "name": "stdout"
        }
      ]
    },
    {
      "cell_type": "markdown",
      "metadata": {
        "id": "VOfwOFsN_WNp",
        "colab_type": "text"
      },
      "source": [
        "#Example 8\n",
        "\n",
        "##input\n",
        "                Three numbers\n",
        "##output\n",
        "                 how many times the digit is repeated between 2nd and 3rd number"
      ]
    },
    {
      "cell_type": "code",
      "metadata": {
        "id": "BZJNvQKIAvjp",
        "colab_type": "code",
        "outputId": "a712e096-5470-4565-fb98-f6ded187d844",
        "colab": {
          "base_uri": "https://localhost:8080/",
          "height": 90
        }
      },
      "source": [
        "n1=int(input(\"enter a number\"));\n",
        "n2=int(input(\"enter a number\"));\n",
        "n3=int(input(\"enter a number\"));\n",
        "count=0;\n",
        "while(n2<=n3):\n",
        "  x=n2;\n",
        "  while(x>0):\n",
        "    r=x%10;\n",
        "    x=x//10;\n",
        "    if(r==n1):\n",
        "      count=count+1;\n",
        "          \n",
        "     \n",
        "  n2=n2+1;\n",
        "\n",
        "print(count);\n",
        "  "
      ],
      "execution_count": 0,
      "outputs": [
        {
          "output_type": "stream",
          "text": [
            "enter a number2\n",
            "enter a number120\n",
            "enter a number220\n",
            "42\n"
          ],
          "name": "stdout"
        }
      ]
    },
    {
      "cell_type": "code",
      "metadata": {
        "id": "AAXSbFSZDD40",
        "colab_type": "code",
        "colab": {}
      },
      "source": [
        ""
      ],
      "execution_count": 0,
      "outputs": []
    }
  ]
}